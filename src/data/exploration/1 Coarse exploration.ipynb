{
 "cells": [
  {
   "cell_type": "code",
   "execution_count": 1,
   "metadata": {},
   "outputs": [],
   "source": [
    "import matplotlib.pyplot as plt\n",
    "import seaborn as sns\n",
    "\n",
    "sns.set(style='whitegrid')\n",
    "sns.plotting_context(context='paper')\n",
    "sns.set_palette('rainbow')\n",
    "\n",
    "import pandas as pd"
   ]
  },
  {
   "cell_type": "code",
   "execution_count": 2,
   "metadata": {},
   "outputs": [],
   "source": [
    "sales = pd.read_csv('../../../data/mckinsey/sales.csv')"
   ]
  },
  {
   "cell_type": "code",
   "execution_count": 13,
   "metadata": {},
   "outputs": [
    {
     "data": {
      "text/html": [
       "<div>\n",
       "<style scoped>\n",
       "    .dataframe tbody tr th:only-of-type {\n",
       "        vertical-align: middle;\n",
       "    }\n",
       "\n",
       "    .dataframe tbody tr th {\n",
       "        vertical-align: top;\n",
       "    }\n",
       "\n",
       "    .dataframe thead th {\n",
       "        text-align: right;\n",
       "    }\n",
       "</style>\n",
       "<table border=\"1\" class=\"dataframe\">\n",
       "  <thead>\n",
       "    <tr style=\"text-align: right;\">\n",
       "      <th></th>\n",
       "      <th>geoCluster</th>\n",
       "      <th>SKU</th>\n",
       "      <th>price</th>\n",
       "      <th>sales</th>\n",
       "    </tr>\n",
       "  </thead>\n",
       "  <tbody>\n",
       "    <tr>\n",
       "      <th>count</th>\n",
       "      <td>4.605985e+06</td>\n",
       "      <td>4.605985e+06</td>\n",
       "      <td>778366.000000</td>\n",
       "      <td>778366.000000</td>\n",
       "    </tr>\n",
       "    <tr>\n",
       "      <th>mean</th>\n",
       "      <td>2.220031e+03</td>\n",
       "      <td>3.671353e+05</td>\n",
       "      <td>67.490666</td>\n",
       "      <td>3.593748</td>\n",
       "    </tr>\n",
       "    <tr>\n",
       "      <th>std</th>\n",
       "      <td>2.459249e+02</td>\n",
       "      <td>3.005135e+05</td>\n",
       "      <td>85.631611</td>\n",
       "      <td>4.627158</td>\n",
       "    </tr>\n",
       "    <tr>\n",
       "      <th>min</th>\n",
       "      <td>9.200000e+01</td>\n",
       "      <td>2.400000e+01</td>\n",
       "      <td>0.000000</td>\n",
       "      <td>0.001000</td>\n",
       "    </tr>\n",
       "    <tr>\n",
       "      <th>25%</th>\n",
       "      <td>2.049000e+03</td>\n",
       "      <td>3.946500e+04</td>\n",
       "      <td>24.190000</td>\n",
       "      <td>1.000000</td>\n",
       "    </tr>\n",
       "    <tr>\n",
       "      <th>50%</th>\n",
       "      <td>2.158000e+03</td>\n",
       "      <td>3.637130e+05</td>\n",
       "      <td>38.490000</td>\n",
       "      <td>2.500000</td>\n",
       "    </tr>\n",
       "    <tr>\n",
       "      <th>75%</th>\n",
       "      <td>2.269000e+03</td>\n",
       "      <td>6.427000e+05</td>\n",
       "      <td>61.890000</td>\n",
       "      <td>4.000000</td>\n",
       "    </tr>\n",
       "    <tr>\n",
       "      <th>max</th>\n",
       "      <td>3.230000e+03</td>\n",
       "      <td>8.381370e+05</td>\n",
       "      <td>7246.890000</td>\n",
       "      <td>801.000000</td>\n",
       "    </tr>\n",
       "  </tbody>\n",
       "</table>\n",
       "</div>"
      ],
      "text/plain": [
       "         geoCluster           SKU          price          sales\n",
       "count  4.605985e+06  4.605985e+06  778366.000000  778366.000000\n",
       "mean   2.220031e+03  3.671353e+05      67.490666       3.593748\n",
       "std    2.459249e+02  3.005135e+05      85.631611       4.627158\n",
       "min    9.200000e+01  2.400000e+01       0.000000       0.001000\n",
       "25%    2.049000e+03  3.946500e+04      24.190000       1.000000\n",
       "50%    2.158000e+03  3.637130e+05      38.490000       2.500000\n",
       "75%    2.269000e+03  6.427000e+05      61.890000       4.000000\n",
       "max    3.230000e+03  8.381370e+05    7246.890000     801.000000"
      ]
     },
     "execution_count": 13,
     "metadata": {},
     "output_type": "execute_result"
    }
   ],
   "source": [
    "sales.describe()"
   ]
  },
  {
   "cell_type": "code",
   "execution_count": 3,
   "metadata": {},
   "outputs": [],
   "source": [
    "sales['date'] = pd.to_datetime(sales['date'])"
   ]
  },
  {
   "cell_type": "code",
   "execution_count": 4,
   "metadata": {},
   "outputs": [],
   "source": [
    "start_date = sales['date'].min()\n",
    "end_date = sales['date'].max()\n",
    "time_range = pd.date_range(start_date, end_date)"
   ]
  },
  {
   "cell_type": "markdown",
   "metadata": {},
   "source": [
    "#### Number of observations per date"
   ]
  },
  {
   "cell_type": "code",
   "execution_count": 6,
   "metadata": {},
   "outputs": [
    {
     "data": {
      "text/plain": [
       "<AxesSubplot:>"
      ]
     },
     "execution_count": 6,
     "metadata": {},
     "output_type": "execute_result"
    },
    {
     "data": {
      "image/png": "[encoded data removed]",
      "image/svg+xml": "<?xml version=\"1.0\" encoding=\"utf-8\" standalone=\"no\"?>\n<!DOCTYPE svg PUBLIC \"-//W3C//DTD SVG 1.1//EN\"\n  \"http://www.w3.org/Graphics/SVG/1.1/DTD/svg11.dtd\">\n<svg xmlns:xlink=\"http://www.w3.org/1999/xlink\" width=\"615.464886pt\" height=\"263.034406pt\" viewBox=\"0 0 615.464886 263.034406\" xmlns=\"http://www.w3.org/2000/svg\" version=\"1.1\">\n <metadata>\n  <rdf:RDF xmlns:dc=\"http://purl.org/dc/elements/1.1/\" xmlns:cc=\"http://creativecommons.org/ns#\" xmlns:rdf=\"http://www.w3.org/1999/02/22-rdf-syntax-ns#\">\n   <cc:Work>\n    <dc:type rdf:resource=\"http://purl.org/dc/dcmitype/StillImage\"/>\n    <dc:date>2022-04-29T23:12:23.412535</dc:date>\n    <dc:format>image/svg+xml</dc:format>\n    <dc:creator>\n     <cc:Agent>\n      <dc:title>Matplotlib v3.5.1, https://matplotlib.org/</dc:title>\n     </cc:Agent>\n    </dc:creator>\n   </cc:Work>\n  </rdf:RDF>\n </metadata>\n <defs>\n  <style type=\"text/css\">*{stroke-linejoin: round; stroke-linecap: butt}</style>\n </defs>\n <g id=\"figure_1\">\n  <g id=\"patch_1\">\n   <path d=\"M 0 263.034406 \nL 615.464886 263.034406 \nL 615.464886 0 \nL 0 0 \nz\n\" style=\"fill: #ffffff\"/>\n  </g>\n  <g id=\"axes_1\">\n   <g id=\"patch_2\">\n    <path d=\"M 47.285156 224.64 \nL 605.285156 224.64 \nL 605.285156 7.2 \nL 47.285156 7.2 \nz\n\" style=\"fill: #ffffff\"/>\n   </g>\n   <g id=\"matplotlib.axis_1\">\n    <g id=\"xtick_1\">\n     <g id=\"line2d_1\">\n      <path d=\"M 47.285156 224.64 \nL 47.285156 7.2 \n\" clip-path=\"url(#p079fb17f8b)\" style=\"fill: none; stroke: #cccccc; stroke-linecap: round\"/>\n     </g>\n     <g id=\"text_1\">\n      <!-- Jan -->\n      <g style=\"fill: #262626\" transform=\"translate(38.418125 242.013594)scale(0.11 -0.11)\">\n       <defs>\n        <path id=\"ArialMT-4a\" d=\"M 184 1300 \nL 731 1375 \nQ 753 850 928 656 \nQ 1103 463 1413 463 \nQ 1641 463 1806 567 \nQ 1972 672 2034 851 \nQ 2097 1031 2097 1425 \nL 2097 4581 \nL 2703 4581 \nL 2703 1459 \nQ 2703 884 2564 568 \nQ 2425 253 2123 87 \nQ 1822 -78 1416 -78 \nQ 813 -78 492 269 \nQ 172 616 184 1300 \nz\n\" transform=\"scale(0.015625)\"/>\n        <path id=\"ArialMT-61\" d=\"M 2588 409 \nQ 2275 144 1986 34 \nQ 1697 -75 1366 -75 \nQ 819 -75 525 192 \nQ 231 459 231 875 \nQ 231 1119 342 1320 \nQ 453 1522 633 1644 \nQ 813 1766 1038 1828 \nQ 1203 1872 1538 1913 \nQ 2219 1994 2541 2106 \nQ 2544 2222 2544 2253 \nQ 2544 2597 2384 2738 \nQ 2169 2928 1744 2928 \nQ 1347 2928 1158 2789 \nQ 969 2650 878 2297 \nL 328 2372 \nQ 403 2725 575 2942 \nQ 747 3159 1072 3276 \nQ 1397 3394 1825 3394 \nQ 2250 3394 2515 3294 \nQ 2781 3194 2906 3042 \nQ 3031 2891 3081 2659 \nQ 3109 2516 3109 2141 \nL 3109 1391 \nQ 3109 606 3145 398 \nQ 3181 191 3288 0 \nL 2700 0 \nQ 2613 175 2588 409 \nz\nM 2541 1666 \nQ 2234 1541 1622 1453 \nQ 1275 1403 1131 1340 \nQ 988 1278 909 1158 \nQ 831 1038 831 891 \nQ 831 666 1001 516 \nQ 1172 366 1500 366 \nQ 1825 366 2078 508 \nQ 2331 650 2450 897 \nQ 2541 1088 2541 1459 \nL 2541 1666 \nz\n\" transform=\"scale(0.015625)\"/>\n        <path id=\"ArialMT-6e\" d=\"M 422 0 \nL 422 3319 \nL 928 3319 \nL 928 2847 \nQ 1294 3394 1984 3394 \nQ 2284 3394 2536 3286 \nQ 2788 3178 2913 3003 \nQ 3038 2828 3088 2588 \nQ 3119 2431 3119 2041 \nL 3119 0 \nL 2556 0 \nL 2556 2019 \nQ 2556 2363 2490 2533 \nQ 2425 2703 2258 2804 \nQ 2091 2906 1866 2906 \nQ 1506 2906 1245 2678 \nQ 984 2450 984 1813 \nL 984 0 \nL 422 0 \nz\n\" transform=\"scale(0.015625)\"/>\n       </defs>\n       <use xlink:href=\"#ArialMT-4a\"/>\n       <use xlink:href=\"#ArialMT-61\" x=\"50\"/>\n       <use xlink:href=\"#ArialMT-6e\" x=\"105.615234\"/>\n      </g>\n      <!-- 2020 -->\n      <g style=\"fill: #262626\" transform=\"translate(35.051094 253.648156)scale(0.11 -0.11)\">\n       <defs>\n        <path id=\"ArialMT-32\" d=\"M 3222 541 \nL 3222 0 \nL 194 0 \nQ 188 203 259 391 \nQ 375 700 629 1000 \nQ 884 1300 1366 1694 \nQ 2113 2306 2375 2664 \nQ 2638 3022 2638 3341 \nQ 2638 3675 2398 3904 \nQ 2159 4134 1775 4134 \nQ 1369 4134 1125 3890 \nQ 881 3647 878 3216 \nL 300 3275 \nQ 359 3922 746 4261 \nQ 1134 4600 1788 4600 \nQ 2447 4600 2831 4234 \nQ 3216 3869 3216 3328 \nQ 3216 3053 3103 2787 \nQ 2991 2522 2730 2228 \nQ 2469 1934 1863 1422 \nQ 1356 997 1212 845 \nQ 1069 694 975 541 \nL 3222 541 \nz\n\" transform=\"scale(0.015625)\"/>\n        <path id=\"ArialMT-30\" d=\"M 266 2259 \nQ 266 3072 433 3567 \nQ 600 4063 929 4331 \nQ 1259 4600 1759 4600 \nQ 2128 4600 2406 4451 \nQ 2684 4303 2865 4023 \nQ 3047 3744 3150 3342 \nQ 3253 2941 3253 2259 \nQ 3253 1453 3087 958 \nQ 2922 463 2592 192 \nQ 2263 -78 1759 -78 \nQ 1097 -78 719 397 \nQ 266 969 266 2259 \nz\nM 844 2259 \nQ 844 1131 1108 757 \nQ 1372 384 1759 384 \nQ 2147 384 2411 759 \nQ 2675 1134 2675 2259 \nQ 2675 3391 2411 3762 \nQ 2147 4134 1753 4134 \nQ 1366 4134 1134 3806 \nQ 844 3388 844 2259 \nz\n\" transform=\"scale(0.015625)\"/>\n       </defs>\n       <use xlink:href=\"#ArialMT-32\"/>\n       <use xlink:href=\"#ArialMT-30\" x=\"55.615234\"/>\n       <use xlink:href=\"#ArialMT-32\" x=\"111.230469\"/>\n       <use xlink:href=\"#ArialMT-30\" x=\"166.845703\"/>\n      </g>\n     </g>\n    </g>\n    <g id=\"xtick_2\">\n     <g id=\"line2d_2\">\n      <path d=\"M 139.441236 224.64 \nL 139.441236 7.2 \n\" clip-path=\"url(#p079fb17f8b)\" style=\"fill: none; stroke: #cccccc; stroke-linecap: round\"/>\n     </g>\n     <g id=\"text_2\">\n      <!-- Apr -->\n      <g style=\"fill: #262626\" transform=\"translate(130.88272 242.013594)scale(0.11 -0.11)\">\n       <defs>\n        <path id=\"ArialMT-41\" d=\"M -9 0 \nL 1750 4581 \nL 2403 4581 \nL 4278 0 \nL 3588 0 \nL 3053 1388 \nL 1138 1388 \nL 634 0 \nL -9 0 \nz\nM 1313 1881 \nL 2866 1881 \nL 2388 3150 \nQ 2169 3728 2063 4100 \nQ 1975 3659 1816 3225 \nL 1313 1881 \nz\n\" transform=\"scale(0.015625)\"/>\n        <path id=\"ArialMT-70\" d=\"M 422 -1272 \nL 422 3319 \nL 934 3319 \nL 934 2888 \nQ 1116 3141 1344 3267 \nQ 1572 3394 1897 3394 \nQ 2322 3394 2647 3175 \nQ 2972 2956 3137 2557 \nQ 3303 2159 3303 1684 \nQ 3303 1175 3120 767 \nQ 2938 359 2589 142 \nQ 2241 -75 1856 -75 \nQ 1575 -75 1351 44 \nQ 1128 163 984 344 \nL 984 -1272 \nL 422 -1272 \nz\nM 931 1641 \nQ 931 1000 1190 694 \nQ 1450 388 1819 388 \nQ 2194 388 2461 705 \nQ 2728 1022 2728 1688 \nQ 2728 2322 2467 2637 \nQ 2206 2953 1844 2953 \nQ 1484 2953 1207 2617 \nQ 931 2281 931 1641 \nz\n\" transform=\"scale(0.015625)\"/>\n        <path id=\"ArialMT-72\" d=\"M 416 0 \nL 416 3319 \nL 922 3319 \nL 922 2816 \nQ 1116 3169 1280 3281 \nQ 1444 3394 1641 3394 \nQ 1925 3394 2219 3213 \nL 2025 2691 \nQ 1819 2813 1613 2813 \nQ 1428 2813 1281 2702 \nQ 1134 2591 1072 2394 \nQ 978 2094 978 1738 \nL 978 0 \nL 416 0 \nz\n\" transform=\"scale(0.015625)\"/>\n       </defs>\n       <use xlink:href=\"#ArialMT-41\"/>\n       <use xlink:href=\"#ArialMT-70\" x=\"66.699219\"/>\n       <use xlink:href=\"#ArialMT-72\" x=\"122.314453\"/>\n      </g>\n     </g>\n    </g>\n    <g id=\"xtick_3\">\n     <g id=\"line2d_3\">\n      <path d=\"M 231.597316 224.64 \nL 231.597316 7.2 \n\" clip-path=\"url(#p079fb17f8b)\" style=\"fill: none; stroke: #cccccc; stroke-linecap: round\"/>\n     </g>\n     <g id=\"text_3\">\n      <!-- Jul -->\n      <g style=\"fill: #262626\" transform=\"translate(224.566769 242.013594)scale(0.11 -0.11)\">\n       <defs>\n        <path id=\"ArialMT-75\" d=\"M 2597 0 \nL 2597 488 \nQ 2209 -75 1544 -75 \nQ 1250 -75 995 37 \nQ 741 150 617 320 \nQ 494 491 444 738 \nQ 409 903 409 1263 \nL 409 3319 \nL 972 3319 \nL 972 1478 \nQ 972 1038 1006 884 \nQ 1059 663 1231 536 \nQ 1403 409 1656 409 \nQ 1909 409 2131 539 \nQ 2353 669 2445 892 \nQ 2538 1116 2538 1541 \nL 2538 3319 \nL 3100 3319 \nL 3100 0 \nL 2597 0 \nz\n\" transform=\"scale(0.015625)\"/>\n        <path id=\"ArialMT-6c\" d=\"M 409 0 \nL 409 4581 \nL 972 4581 \nL 972 0 \nL 409 0 \nz\n\" transform=\"scale(0.015625)\"/>\n       </defs>\n       <use xlink:href=\"#ArialMT-4a\"/>\n       <use xlink:href=\"#ArialMT-75\" x=\"50\"/>\n       <use xlink:href=\"#ArialMT-6c\" x=\"105.615234\"/>\n      </g>\n     </g>\n    </g>\n    <g id=\"xtick_4\">\n     <g id=\"line2d_4\">\n      <path d=\"M 324.7661 224.64 \nL 324.7661 7.2 \n\" clip-path=\"url(#p079fb17f8b)\" style=\"fill: none; stroke: #cccccc; stroke-linecap: round\"/>\n     </g>\n     <g id=\"text_4\">\n      <!-- Oct -->\n      <g style=\"fill: #262626\" transform=\"translate(316.210162 242.013594)scale(0.11 -0.11)\">\n       <defs>\n        <path id=\"ArialMT-4f\" d=\"M 309 2231 \nQ 309 3372 921 4017 \nQ 1534 4663 2503 4663 \nQ 3138 4663 3647 4359 \nQ 4156 4056 4423 3514 \nQ 4691 2972 4691 2284 \nQ 4691 1588 4409 1038 \nQ 4128 488 3612 205 \nQ 3097 -78 2500 -78 \nQ 1853 -78 1343 234 \nQ 834 547 571 1087 \nQ 309 1628 309 2231 \nz\nM 934 2222 \nQ 934 1394 1379 917 \nQ 1825 441 2497 441 \nQ 3181 441 3623 922 \nQ 4066 1403 4066 2288 \nQ 4066 2847 3877 3264 \nQ 3688 3681 3323 3911 \nQ 2959 4141 2506 4141 \nQ 1863 4141 1398 3698 \nQ 934 3256 934 2222 \nz\n\" transform=\"scale(0.015625)\"/>\n        <path id=\"ArialMT-63\" d=\"M 2588 1216 \nL 3141 1144 \nQ 3050 572 2676 248 \nQ 2303 -75 1759 -75 \nQ 1078 -75 664 370 \nQ 250 816 250 1647 \nQ 250 2184 428 2587 \nQ 606 2991 970 3192 \nQ 1334 3394 1763 3394 \nQ 2303 3394 2647 3120 \nQ 2991 2847 3088 2344 \nL 2541 2259 \nQ 2463 2594 2264 2762 \nQ 2066 2931 1784 2931 \nQ 1359 2931 1093 2626 \nQ 828 2322 828 1663 \nQ 828 994 1084 691 \nQ 1341 388 1753 388 \nQ 2084 388 2306 591 \nQ 2528 794 2588 1216 \nz\n\" transform=\"scale(0.015625)\"/>\n        <path id=\"ArialMT-74\" d=\"M 1650 503 \nL 1731 6 \nQ 1494 -44 1306 -44 \nQ 1000 -44 831 53 \nQ 663 150 594 308 \nQ 525 466 525 972 \nL 525 2881 \nL 113 2881 \nL 113 3319 \nL 525 3319 \nL 525 4141 \nL 1084 4478 \nL 1084 3319 \nL 1650 3319 \nL 1650 2881 \nL 1084 2881 \nL 1084 941 \nQ 1084 700 1114 631 \nQ 1144 563 1211 522 \nQ 1278 481 1403 481 \nQ 1497 481 1650 503 \nz\n\" transform=\"scale(0.015625)\"/>\n       </defs>\n       <use xlink:href=\"#ArialMT-4f\"/>\n       <use xlink:href=\"#ArialMT-63\" x=\"77.783203\"/>\n       <use xlink:href=\"#ArialMT-74\" x=\"127.783203\"/>\n      </g>\n     </g>\n    </g>\n    <g id=\"xtick_5\">\n     <g id=\"line2d_5\">\n      <path d=\"M 417.934884 224.64 \nL 417.934884 7.2 \n\" clip-path=\"url(#p079fb17f8b)\" style=\"fill: none; stroke: #cccccc; stroke-linecap: round\"/>\n     </g>\n     <g id=\"text_5\">\n      <!-- Jan -->\n      <g style=\"fill: #262626\" transform=\"translate(409.067853 242.013594)scale(0.11 -0.11)\">\n       <use xlink:href=\"#ArialMT-4a\"/>\n       <use xlink:href=\"#ArialMT-61\" x=\"50\"/>\n       <use xlink:href=\"#ArialMT-6e\" x=\"105.615234\"/>\n      </g>\n      <!-- 2021 -->\n      <g style=\"fill: #262626\" transform=\"translate(405.700822 253.648156)scale(0.11 -0.11)\">\n       <defs>\n        <path id=\"ArialMT-31\" d=\"M 2384 0 \nL 1822 0 \nL 1822 3584 \nQ 1619 3391 1289 3197 \nQ 959 3003 697 2906 \nL 697 3450 \nQ 1169 3672 1522 3987 \nQ 1875 4303 2022 4600 \nL 2384 4600 \nL 2384 0 \nz\n\" transform=\"scale(0.015625)\"/>\n       </defs>\n       <use xlink:href=\"#ArialMT-32\"/>\n       <use xlink:href=\"#ArialMT-30\" x=\"55.615234\"/>\n       <use xlink:href=\"#ArialMT-32\" x=\"111.230469\"/>\n       <use xlink:href=\"#ArialMT-31\" x=\"166.845703\"/>\n      </g>\n     </g>\n    </g>\n    <g id=\"xtick_6\">\n     <g id=\"line2d_6\">\n      <path d=\"M 509.07826 224.64 \nL 509.07826 7.2 \n\" clip-path=\"url(#p079fb17f8b)\" style=\"fill: none; stroke: #cccccc; stroke-linecap: round\"/>\n     </g>\n     <g id=\"text_6\">\n      <!-- Apr -->\n      <g style=\"fill: #262626\" transform=\"translate(500.519744 242.013594)scale(0.11 -0.11)\">\n       <use xlink:href=\"#ArialMT-41\"/>\n       <use xlink:href=\"#ArialMT-70\" x=\"66.699219\"/>\n       <use xlink:href=\"#ArialMT-72\" x=\"122.314453\"/>\n      </g>\n     </g>\n    </g>\n    <g id=\"xtick_7\">\n     <g id=\"line2d_7\">\n      <path d=\"M 601.23434 224.64 \nL 601.23434 7.2 \n\" clip-path=\"url(#p079fb17f8b)\" style=\"fill: none; stroke: #cccccc; stroke-linecap: round\"/>\n     </g>\n     <g id=\"text_7\">\n      <!-- Jul -->\n      <g style=\"fill: #262626\" transform=\"translate(594.203793 242.013594)scale(0.11 -0.11)\">\n       <use xlink:href=\"#ArialMT-4a\"/>\n       <use xlink:href=\"#ArialMT-75\" x=\"50\"/>\n       <use xlink:href=\"#ArialMT-6c\" x=\"105.615234\"/>\n      </g>\n     </g>\n    </g>\n    <g id=\"xtick_8\">\n     <g id=\"line2d_8\">\n      <path d=\"M 605.285156 224.64 \nL 605.285156 7.2 \n\" clip-path=\"url(#p079fb17f8b)\" style=\"fill: none; stroke: #cccccc; stroke-linecap: round\"/>\n     </g>\n    </g>\n    <g id=\"xtick_9\"/>\n    <g id=\"xtick_10\"/>\n    <g id=\"xtick_11\"/>\n    <g id=\"xtick_12\"/>\n    <g id=\"xtick_13\"/>\n    <g id=\"xtick_14\"/>\n    <g id=\"xtick_15\"/>\n    <g id=\"xtick_16\"/>\n    <g id=\"xtick_17\"/>\n    <g id=\"xtick_18\"/>\n    <g id=\"xtick_19\"/>\n    <g id=\"xtick_20\"/>\n   </g>\n   <g id=\"matplotlib.axis_2\">\n    <g id=\"ytick_1\">\n     <g id=\"line2d_9\">\n      <path d=\"M 47.285156 214.852762 \nL 605.285156 214.852762 \n\" clip-path=\"url(#p079fb17f8b)\" style=\"fill: none; stroke: #cccccc; stroke-linecap: round\"/>\n     </g>\n     <g id=\"text_8\">\n      <!-- 0 -->\n      <g style=\"fill: #262626\" transform=\"translate(31.668125 218.789559)scale(0.11 -0.11)\">\n       <use xlink:href=\"#ArialMT-30\"/>\n      </g>\n     </g>\n    </g>\n    <g id=\"ytick_2\">\n     <g id=\"line2d_10\">\n      <path d=\"M 47.285156 187.310234 \nL 605.285156 187.310234 \n\" clip-path=\"url(#p079fb17f8b)\" style=\"fill: none; stroke: #cccccc; stroke-linecap: round\"/>\n     </g>\n     <g id=\"text_9\">\n      <!-- 2000 -->\n      <g style=\"fill: #262626\" transform=\"translate(13.317031 191.247031)scale(0.11 -0.11)\">\n       <use xlink:href=\"#ArialMT-32\"/>\n       <use xlink:href=\"#ArialMT-30\" x=\"55.615234\"/>\n       <use xlink:href=\"#ArialMT-30\" x=\"111.230469\"/>\n       <use xlink:href=\"#ArialMT-30\" x=\"166.845703\"/>\n      </g>\n     </g>\n    </g>\n    <g id=\"ytick_3\">\n     <g id=\"line2d_11\">\n      <path d=\"M 47.285156 159.767705 \nL 605.285156 159.767705 \n\" clip-path=\"url(#p079fb17f8b)\" style=\"fill: none; stroke: #cccccc; stroke-linecap: round\"/>\n     </g>\n     <g id=\"text_10\">\n      <!-- 4000 -->\n      <g style=\"fill: #262626\" transform=\"translate(13.317031 163.704502)scale(0.11 -0.11)\">\n       <defs>\n        <path id=\"ArialMT-34\" d=\"M 2069 0 \nL 2069 1097 \nL 81 1097 \nL 81 1613 \nL 2172 4581 \nL 2631 4581 \nL 2631 1613 \nL 3250 1613 \nL 3250 1097 \nL 2631 1097 \nL 2631 0 \nL 2069 0 \nz\nM 2069 1613 \nL 2069 3678 \nL 634 1613 \nL 2069 1613 \nz\n\" transform=\"scale(0.015625)\"/>\n       </defs>\n       <use xlink:href=\"#ArialMT-34\"/>\n       <use xlink:href=\"#ArialMT-30\" x=\"55.615234\"/>\n       <use xlink:href=\"#ArialMT-30\" x=\"111.230469\"/>\n       <use xlink:href=\"#ArialMT-30\" x=\"166.845703\"/>\n      </g>\n     </g>\n    </g>\n    <g id=\"ytick_4\">\n     <g id=\"line2d_12\">\n      <path d=\"M 47.285156 132.225177 \nL 605.285156 132.225177 \n\" clip-path=\"url(#p079fb17f8b)\" style=\"fill: none; stroke: #cccccc; stroke-linecap: round\"/>\n     </g>\n     <g id=\"text_11\">\n      <!-- 6000 -->\n      <g style=\"fill: #262626\" transform=\"translate(13.317031 136.161974)scale(0.11 -0.11)\">\n       <defs>\n        <path id=\"ArialMT-36\" d=\"M 3184 3459 \nL 2625 3416 \nQ 2550 3747 2413 3897 \nQ 2184 4138 1850 4138 \nQ 1581 4138 1378 3988 \nQ 1113 3794 959 3422 \nQ 806 3050 800 2363 \nQ 1003 2672 1297 2822 \nQ 1591 2972 1913 2972 \nQ 2475 2972 2870 2558 \nQ 3266 2144 3266 1488 \nQ 3266 1056 3080 686 \nQ 2894 316 2569 119 \nQ 2244 -78 1831 -78 \nQ 1128 -78 684 439 \nQ 241 956 241 2144 \nQ 241 3472 731 4075 \nQ 1159 4600 1884 4600 \nQ 2425 4600 2770 4297 \nQ 3116 3994 3184 3459 \nz\nM 888 1484 \nQ 888 1194 1011 928 \nQ 1134 663 1356 523 \nQ 1578 384 1822 384 \nQ 2178 384 2434 671 \nQ 2691 959 2691 1453 \nQ 2691 1928 2437 2201 \nQ 2184 2475 1800 2475 \nQ 1419 2475 1153 2201 \nQ 888 1928 888 1484 \nz\n\" transform=\"scale(0.015625)\"/>\n       </defs>\n       <use xlink:href=\"#ArialMT-36\"/>\n       <use xlink:href=\"#ArialMT-30\" x=\"55.615234\"/>\n       <use xlink:href=\"#ArialMT-30\" x=\"111.230469\"/>\n       <use xlink:href=\"#ArialMT-30\" x=\"166.845703\"/>\n      </g>\n     </g>\n    </g>\n    <g id=\"ytick_5\">\n     <g id=\"line2d_13\">\n      <path d=\"M 47.285156 104.682648 \nL 605.285156 104.682648 \n\" clip-path=\"url(#p079fb17f8b)\" style=\"fill: none; stroke: #cccccc; stroke-linecap: round\"/>\n     </g>\n     <g id=\"text_12\">\n      <!-- 8000 -->\n      <g style=\"fill: #262626\" transform=\"translate(13.317031 108.619445)scale(0.11 -0.11)\">\n       <defs>\n        <path id=\"ArialMT-38\" d=\"M 1131 2484 \nQ 781 2613 612 2850 \nQ 444 3088 444 3419 \nQ 444 3919 803 4259 \nQ 1163 4600 1759 4600 \nQ 2359 4600 2725 4251 \nQ 3091 3903 3091 3403 \nQ 3091 3084 2923 2848 \nQ 2756 2613 2416 2484 \nQ 2838 2347 3058 2040 \nQ 3278 1734 3278 1309 \nQ 3278 722 2862 322 \nQ 2447 -78 1769 -78 \nQ 1091 -78 675 323 \nQ 259 725 259 1325 \nQ 259 1772 486 2073 \nQ 713 2375 1131 2484 \nz\nM 1019 3438 \nQ 1019 3113 1228 2906 \nQ 1438 2700 1772 2700 \nQ 2097 2700 2305 2904 \nQ 2513 3109 2513 3406 \nQ 2513 3716 2298 3927 \nQ 2084 4138 1766 4138 \nQ 1444 4138 1231 3931 \nQ 1019 3725 1019 3438 \nz\nM 838 1322 \nQ 838 1081 952 856 \nQ 1066 631 1291 507 \nQ 1516 384 1775 384 \nQ 2178 384 2440 643 \nQ 2703 903 2703 1303 \nQ 2703 1709 2433 1975 \nQ 2163 2241 1756 2241 \nQ 1359 2241 1098 1978 \nQ 838 1716 838 1322 \nz\n\" transform=\"scale(0.015625)\"/>\n       </defs>\n       <use xlink:href=\"#ArialMT-38\"/>\n       <use xlink:href=\"#ArialMT-30\" x=\"55.615234\"/>\n       <use xlink:href=\"#ArialMT-30\" x=\"111.230469\"/>\n       <use xlink:href=\"#ArialMT-30\" x=\"166.845703\"/>\n      </g>\n     </g>\n    </g>\n    <g id=\"ytick_6\">\n     <g id=\"line2d_14\">\n      <path d=\"M 47.285156 77.14012 \nL 605.285156 77.14012 \n\" clip-path=\"url(#p079fb17f8b)\" style=\"fill: none; stroke: #cccccc; stroke-linecap: round\"/>\n     </g>\n     <g id=\"text_13\">\n      <!-- 10000 -->\n      <g style=\"fill: #262626\" transform=\"translate(7.2 81.076917)scale(0.11 -0.11)\">\n       <use xlink:href=\"#ArialMT-31\"/>\n       <use xlink:href=\"#ArialMT-30\" x=\"55.615234\"/>\n       <use xlink:href=\"#ArialMT-30\" x=\"111.230469\"/>\n       <use xlink:href=\"#ArialMT-30\" x=\"166.845703\"/>\n       <use xlink:href=\"#ArialMT-30\" x=\"222.460938\"/>\n      </g>\n     </g>\n    </g>\n    <g id=\"ytick_7\">\n     <g id=\"line2d_15\">\n      <path d=\"M 47.285156 49.597591 \nL 605.285156 49.597591 \n\" clip-path=\"url(#p079fb17f8b)\" style=\"fill: none; stroke: #cccccc; stroke-linecap: round\"/>\n     </g>\n     <g id=\"text_14\">\n      <!-- 12000 -->\n      <g style=\"fill: #262626\" transform=\"translate(7.2 53.534388)scale(0.11 -0.11)\">\n       <use xlink:href=\"#ArialMT-31\"/>\n       <use xlink:href=\"#ArialMT-32\" x=\"55.615234\"/>\n       <use xlink:href=\"#ArialMT-30\" x=\"111.230469\"/>\n       <use xlink:href=\"#ArialMT-30\" x=\"166.845703\"/>\n       <use xlink:href=\"#ArialMT-30\" x=\"222.460938\"/>\n      </g>\n     </g>\n    </g>\n    <g id=\"ytick_8\">\n     <g id=\"line2d_16\">\n      <path d=\"M 47.285156 22.055063 \nL 605.285156 22.055063 \n\" clip-path=\"url(#p079fb17f8b)\" style=\"fill: none; stroke: #cccccc; stroke-linecap: round\"/>\n     </g>\n     <g id=\"text_15\">\n      <!-- 14000 -->\n      <g style=\"fill: #262626\" transform=\"translate(7.2 25.99186)scale(0.11 -0.11)\">\n       <use xlink:href=\"#ArialMT-31\"/>\n       <use xlink:href=\"#ArialMT-34\" x=\"55.615234\"/>\n       <use xlink:href=\"#ArialMT-30\" x=\"111.230469\"/>\n       <use xlink:href=\"#ArialMT-30\" x=\"166.845703\"/>\n       <use xlink:href=\"#ArialMT-30\" x=\"222.460938\"/>\n      </g>\n     </g>\n    </g>\n   </g>\n   <g id=\"line2d_17\">\n    <path d=\"M 47.285156 214.756364 \nL 141.466644 214.673736 \nL 142.479349 213.200211 \nL 144.504757 209.371799 \nL 145.517461 205.970297 \nL 147.542869 195.421509 \nL 148.555574 189.375924 \nL 149.568278 185.313401 \nL 150.580982 181.994526 \nL 151.593686 179.52947 \nL 153.619095 173.814395 \nL 154.631799 166.35037 \nL 155.644503 161.02089 \nL 156.657207 158.597148 \nL 158.682615 156.063235 \nL 159.69532 153.928689 \nL 160.708024 152.400079 \nL 161.720728 149.714683 \nL 162.733432 147.346025 \nL 166.784249 141.782434 \nL 167.796953 140.584334 \nL 168.809657 138.243219 \nL 169.822361 136.218844 \nL 170.835066 134.896802 \nL 172.860474 133.037681 \nL 174.885882 131.412672 \nL 175.898586 129.636179 \nL 178.936699 127.198665 \nL 180.962107 126.399932 \nL 181.974811 125.821539 \nL 182.987516 124.430641 \nL 184.00022 123.494195 \nL 185.012924 122.929574 \nL 187.038332 122.296095 \nL 189.063741 121.538676 \nL 190.076445 121.015368 \nL 192.101853 120.423203 \nL 194.127262 119.872353 \nL 195.139966 119.5143 \nL 196.15267 119.390359 \nL 197.165374 118.908364 \nL 198.178078 118.564083 \nL 202.228895 117.765349 \nL 203.241599 117.586323 \nL 204.254303 117.145643 \nL 206.279712 116.608563 \nL 210.330528 116.057713 \nL 212.355937 115.396692 \nL 214.381345 114.804528 \nL 217.419458 114.198592 \nL 218.432162 113.08312 \nL 219.444866 112.339471 \nL 221.470274 111.34794 \nL 222.482978 110.989887 \nL 224.508387 110.562978 \nL 225.521091 109.833101 \nL 226.533795 109.240937 \nL 227.546499 108.924198 \nL 230.584612 108.455975 \nL 231.597316 108.276948 \nL 232.61002 107.299189 \nL 233.622724 106.693253 \nL 239.698949 104.944302 \nL 240.711654 104.434766 \nL 244.76247 103.636032 \nL 250.838695 102.809756 \nL 253.876808 102.451704 \nL 255.902216 101.955938 \nL 259.953033 101.43263 \nL 261.978441 100.868008 \nL 265.016554 100.248301 \nL 267.041962 100.01419 \nL 269.06737 99.559738 \nL 271.092779 99.270542 \nL 275.143595 98.884946 \nL 279.194412 98.444266 \nL 285.270637 97.631761 \nL 287.296046 97.370107 \nL 289.321454 97.191081 \nL 291.346862 96.86057 \nL 295.397679 96.502517 \nL 297.423087 95.979209 \nL 307.550129 94.57454 \nL 309.575537 94.395514 \nL 310.588242 94.065004 \nL 312.61365 93.789578 \nL 314.639058 93.583009 \nL 321.727987 92.302282 \nL 323.753396 92.095713 \nL 327.804213 91.51732 \nL 329.829621 91.283208 \nL 332.867733 90.718586 \nL 337.931254 90.140193 \nL 339.956663 89.892311 \nL 341.982071 89.506715 \nL 344.007479 89.258832 \nL 346.032888 88.928322 \nL 351.096409 88.129589 \nL 352.109113 87.991876 \nL 355.147225 87.179371 \nL 357.172634 86.545893 \nL 359.198042 86.008814 \nL 360.210746 85.292708 \nL 361.22345 84.824485 \nL 363.248859 83.543758 \nL 365.274267 82.882737 \nL 366.286971 82.345658 \nL 367.299675 81.06493 \nL 368.312379 80.390138 \nL 369.325084 79.853059 \nL 370.337788 79.481235 \nL 372.363196 78.999241 \nL 375.401309 78.076566 \nL 376.414013 77.567029 \nL 378.439421 77.02995 \nL 379.452125 75.818078 \nL 380.46483 74.840319 \nL 381.477534 73.339251 \nL 384.515646 69.923977 \nL 386.541055 68.767191 \nL 388.566463 67.348751 \nL 390.591871 66.123108 \nL 391.604575 65.48963 \nL 394.642688 64.498099 \nL 398.693505 62.680292 \nL 399.706209 62.239612 \nL 402.744321 61.495964 \nL 403.757026 61.096597 \nL 405.782434 60.490661 \nL 407.807842 59.939811 \nL 408.820546 59.581758 \nL 409.833251 58.94828 \nL 411.858659 57.887892 \nL 414.896771 56.221569 \nL 415.909476 55.46415 \nL 416.92218 54.968384 \nL 417.934884 54.899528 \nL 419.960292 54.26605 \nL 425.023813 52.627269 \nL 426.036517 52.338073 \nL 428.061926 51.938706 \nL 429.07463 51.553111 \nL 430.087334 51.360313 \nL 432.112742 50.602894 \nL 433.125447 50.148442 \nL 434.138151 49.845474 \nL 437.176263 49.335937 \nL 439.201672 48.798858 \nL 454.392234 47.036136 \nL 456.417643 46.788253 \nL 462.493868 46.264945 \nL 466.544684 45.838036 \nL 467.557389 45.76918 \nL 468.570093 45.576382 \nL 472.620909 45.259643 \nL 475.659022 44.79142 \nL 478.697134 44.529766 \nL 480.722543 44.378282 \nL 482.747951 44.034001 \nL 493.887697 42.863443 \nL 498.951218 41.913226 \nL 511.103668 40.742668 \nL 512.116372 40.522328 \nL 515.154485 40.32953 \nL 516.167189 39.985249 \nL 522.243414 39.02126 \nL 523.256118 38.139899 \nL 524.268822 37.079512 \nL 525.281526 36.556204 \nL 527.306935 36.005353 \nL 528.319639 35.688614 \nL 530.345047 34.738397 \nL 531.357752 34.476743 \nL 532.370456 34.049834 \nL 534.395864 33.609153 \nL 536.421272 33.003218 \nL 540.472089 32.053001 \nL 542.497497 31.736262 \nL 543.510202 31.50215 \nL 546.548314 30.248965 \nL 548.573722 30.014854 \nL 551.611835 29.464003 \nL 553.637243 28.858067 \nL 554.649948 28.761668 \nL 557.68806 28.01802 \nL 558.700764 27.57734 \nL 560.726173 27.150431 \nL 561.738877 26.764835 \nL 563.764285 26.516952 \nL 569.84051 25.305081 \nL 570.853214 25.18114 \nL 571.865919 24.891943 \nL 573.891327 24.561433 \nL 577.942144 23.831556 \nL 580.980256 22.716083 \nL 584.018369 22.110148 \nL 586.043777 21.655696 \nL 589.081889 20.994675 \nL 590.094594 20.856963 \nL 591.107298 20.526452 \nL 593.132706 20.237256 \nL 599.208931 18.928986 \nL 602.247044 17.675801 \nL 604.272452 17.276434 \nL 605.285156 17.083636 \nL 605.285156 17.083636 \n\" clip-path=\"url(#p079fb17f8b)\" style=\"fill: none; stroke: #386df9; stroke-width: 1.5; stroke-linecap: round\"/>\n   </g>\n   <g id=\"patch_3\">\n    <path d=\"M 47.285156 224.64 \nL 47.285156 7.2 \n\" style=\"fill: none; stroke: #cccccc; stroke-width: 1.25; stroke-linejoin: miter; stroke-linecap: square\"/>\n   </g>\n   <g id=\"patch_4\">\n    <path d=\"M 605.285156 224.64 \nL 605.285156 7.2 \n\" style=\"fill: none; stroke: #cccccc; stroke-width: 1.25; stroke-linejoin: miter; stroke-linecap: square\"/>\n   </g>\n   <g id=\"patch_5\">\n    <path d=\"M 47.285156 224.64 \nL 605.285156 224.64 \n\" style=\"fill: none; stroke: #cccccc; stroke-width: 1.25; stroke-linejoin: miter; stroke-linecap: square\"/>\n   </g>\n   <g id=\"patch_6\">\n    <path d=\"M 47.285156 7.2 \nL 605.285156 7.2 \n\" style=\"fill: none; stroke: #cccccc; stroke-width: 1.25; stroke-linejoin: miter; stroke-linecap: square\"/>\n   </g>\n  </g>\n </g>\n <defs>\n  <clipPath id=\"p079fb17f8b\">\n   <rect x=\"47.285156\" y=\"7.2\" width=\"558\" height=\"217.44\"/>\n  </clipPath>\n </defs>\n</svg>\n",
      "text/plain": [
       "<Figure size 720x288 with 1 Axes>"
      ]
     },
     "metadata": {},
     "output_type": "display_data"
    }
   ],
   "source": [
    "fig, ax = plt.subplots(figsize=(10, 4))\n",
    "sales.groupby('date').count()['ID'].reindex(time_range, fill_value=0).plot(ax=ax)"
   ]
  },
  {
   "cell_type": "markdown",
   "metadata": {},
   "source": [
    "#### Portion of NaN values per column"
   ]
  },
  {
   "cell_type": "code",
   "execution_count": 11,
   "metadata": {},
   "outputs": [
    {
     "data": {
      "text/plain": [
       "ID            0.00000\n",
       "geoCluster    0.00000\n",
       "SKU           0.00000\n",
       "date          0.00000\n",
       "price         0.83101\n",
       "sales         0.83101\n",
       "dtype: float64"
      ]
     },
     "execution_count": 11,
     "metadata": {},
     "output_type": "execute_result"
    }
   ],
   "source": [
    "sales.isna().sum() / sales.shape[0]"
   ]
  }
 ],
 "metadata": {
  "interpreter": {
   "hash": "c1739b316c9bc3bce619fa9a6d43635655a567e27668079b40ca20f312715fb4"
  },
  "kernelspec": {
   "display_name": "Python 3.9.2 ('mlenv')",
   "language": "python",
   "name": "python3"
  },
  "language_info": {
   "codemirror_mode": {
    "name": "ipython",
    "version": 3
   },
   "file_extension": ".py",
   "mimetype": "text/x-python",
   "name": "python",
   "nbconvert_exporter": "python",
   "pygments_lexer": "ipython3",
   "version": "3.9.12"
  },
  "orig_nbformat": 4
 },
 "nbformat": 4,
 "nbformat_minor": 2
}
